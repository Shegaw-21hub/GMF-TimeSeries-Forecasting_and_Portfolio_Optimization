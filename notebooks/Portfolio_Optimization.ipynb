{
 "cells": [
  {
   "cell_type": "code",
   "execution_count": null,
   "metadata": {
    "vscode": {
     "languageId": "plaintext"
    }
   },
   "outputs": [],
   "source": [
    "# Cell 1: Imports and Data Loading\n",
    "import sys\n",
    "sys.path.append('../src')\n",
    "from portfolio import *\n",
    "import pandas as pd\n",
    "\n",
    "daily_returns = pd.read_csv('../data/processed/daily_returns.csv', index_col=0, parse_dates=True)\n",
    "tsla_future_forecast = pd.read_csv('../data/processed/tsla_future_forecast.csv', index_col=0, parse_dates=True, header=None, names=['date', 'forecast_price'])\n",
    "\n",
    "# Calculate daily returns for the TSLA forecast\n",
    "tsla_forecast_returns = tsla_future_forecast['forecast_price'].pct_change().dropna()\n",
    "\n",
    "# Cell 2: Portfolio Optimization\n",
    "ef, max_sharpe_weights, max_sharpe_stats, min_vol_weights, min_vol_stats = optimize_portfolio(daily_returns, tsla_forecast_returns)\n",
    "\n",
    "# Cell 3: Plot the Efficient Frontier\n",
    "plot_efficient_frontier(ef)\n",
    "\n",
    "# Cell 4: Final Recommendation\n",
    "print(\"\\n--- Recommended Portfolio (Maximum Sharpe Ratio) ---\")\n",
    "print(\"Optimal Weights:\")\n",
    "for ticker, weight in max_sharpe_weights.items():\n",
    "    print(f\"\\t{ticker}: {weight:.2%}\")\n",
    "print(\"\\nPerformance Metrics (Annualized):\")\n",
    "print(f\"\\tExpected Return: {max_sharpe_stats[0]*100:.2f}%\")\n",
    "print(f\"\\tVolatility: {max_sharpe_stats[1]*100:.2f}%\")\n",
    "print(f\"\\tSharpe Ratio: {max_sharpe_stats[2]:.2f}\")\n",
    "\n",
    "# You can choose max_sharpe or min_vol based on your analysis.\n",
    "# Save the chosen portfolio weights for backtesting\n",
    "pd.Series(max_sharpe_weights).to_csv('../data/processed/optimal_weights.csv', header=True)"
   ]
  }
 ],
 "metadata": {
  "language_info": {
   "name": "python"
  }
 },
 "nbformat": 4,
 "nbformat_minor": 2
}
